{
 "cells": [
  {
   "cell_type": "code",
   "execution_count": 1,
   "id": "adf7f568",
   "metadata": {},
   "outputs": [],
   "source": [
    "import pandas as pd"
   ]
  },
  {
   "cell_type": "code",
   "execution_count": 2,
   "id": "f1dd7960",
   "metadata": {},
   "outputs": [],
   "source": [
    "data = pd.read_csv('CVEFixes.csv')"
   ]
  },
  {
   "cell_type": "code",
   "execution_count": 3,
   "id": "24ae55f6",
   "metadata": {},
   "outputs": [
    {
     "data": {
      "text/html": [
       "<div>\n",
       "<style scoped>\n",
       "    .dataframe tbody tr th:only-of-type {\n",
       "        vertical-align: middle;\n",
       "    }\n",
       "\n",
       "    .dataframe tbody tr th {\n",
       "        vertical-align: top;\n",
       "    }\n",
       "\n",
       "    .dataframe thead th {\n",
       "        text-align: right;\n",
       "    }\n",
       "</style>\n",
       "<table border=\"1\" class=\"dataframe\">\n",
       "  <thead>\n",
       "    <tr style=\"text-align: right;\">\n",
       "      <th></th>\n",
       "      <th>code</th>\n",
       "      <th>language</th>\n",
       "      <th>safety</th>\n",
       "    </tr>\n",
       "  </thead>\n",
       "  <tbody>\n",
       "    <tr>\n",
       "      <th>0</th>\n",
       "      <td>package org.bouncycastle.jcajce.provider.asymm...</td>\n",
       "      <td>java</td>\n",
       "      <td>vulnerable</td>\n",
       "    </tr>\n",
       "    <tr>\n",
       "      <th>1</th>\n",
       "      <td>&lt;?php\\n\\n\\n\\n/**\\n\\n * ownCloud - user_ldap\\n\\...</td>\n",
       "      <td>php</td>\n",
       "      <td>vulnerable</td>\n",
       "    </tr>\n",
       "    <tr>\n",
       "      <th>2</th>\n",
       "      <td>#!/usr/bin/env python\\n\\nfrom __future__ impor...</td>\n",
       "      <td>py</td>\n",
       "      <td>safe</td>\n",
       "    </tr>\n",
       "    <tr>\n",
       "      <th>3</th>\n",
       "      <td>/* -*- c-basic-offset: 8 -*-\\n\\n   rdesktop: A...</td>\n",
       "      <td>c</td>\n",
       "      <td>safe</td>\n",
       "    </tr>\n",
       "    <tr>\n",
       "      <th>4</th>\n",
       "      <td>&lt;!DOCTYPE html&gt;\\n\\n&lt;html&gt;\\n\\n    &lt;head&gt;\\n\\n   ...</td>\n",
       "      <td>html</td>\n",
       "      <td>safe</td>\n",
       "    </tr>\n",
       "  </tbody>\n",
       "</table>\n",
       "</div>"
      ],
      "text/plain": [
       "                                                code language      safety\n",
       "0  package org.bouncycastle.jcajce.provider.asymm...     java  vulnerable\n",
       "1  <?php\\n\\n\\n\\n/**\\n\\n * ownCloud - user_ldap\\n\\...      php  vulnerable\n",
       "2  #!/usr/bin/env python\\n\\nfrom __future__ impor...       py        safe\n",
       "3  /* -*- c-basic-offset: 8 -*-\\n\\n   rdesktop: A...        c        safe\n",
       "4  <!DOCTYPE html>\\n\\n<html>\\n\\n    <head>\\n\\n   ...     html        safe"
      ]
     },
     "execution_count": 3,
     "metadata": {},
     "output_type": "execute_result"
    }
   ],
   "source": [
    "data.head()"
   ]
  },
  {
   "cell_type": "code",
   "execution_count": 6,
   "id": "d60e3366",
   "metadata": {},
   "outputs": [],
   "source": [
    "df = data[data['language'] == 'py']"
   ]
  },
  {
   "cell_type": "code",
   "execution_count": 8,
   "id": "bcf27306",
   "metadata": {
    "scrolled": true
   },
   "outputs": [
    {
     "data": {
      "text/html": [
       "<div>\n",
       "<style scoped>\n",
       "    .dataframe tbody tr th:only-of-type {\n",
       "        vertical-align: middle;\n",
       "    }\n",
       "\n",
       "    .dataframe tbody tr th {\n",
       "        vertical-align: top;\n",
       "    }\n",
       "\n",
       "    .dataframe thead th {\n",
       "        text-align: right;\n",
       "    }\n",
       "</style>\n",
       "<table border=\"1\" class=\"dataframe\">\n",
       "  <thead>\n",
       "    <tr style=\"text-align: right;\">\n",
       "      <th></th>\n",
       "      <th>code</th>\n",
       "      <th>language</th>\n",
       "      <th>safety</th>\n",
       "    </tr>\n",
       "  </thead>\n",
       "  <tbody>\n",
       "    <tr>\n",
       "      <th>2</th>\n",
       "      <td>#!/usr/bin/env python\\n\\nfrom __future__ impor...</td>\n",
       "      <td>py</td>\n",
       "      <td>safe</td>\n",
       "    </tr>\n",
       "    <tr>\n",
       "      <th>52</th>\n",
       "      <td># This file is dual licensed under the terms o...</td>\n",
       "      <td>py</td>\n",
       "      <td>vulnerable</td>\n",
       "    </tr>\n",
       "    <tr>\n",
       "      <th>85</th>\n",
       "      <td># Copyright (c) 2010-2012 OpenStack, LLC.\\n\\n#...</td>\n",
       "      <td>py</td>\n",
       "      <td>vulnerable</td>\n",
       "    </tr>\n",
       "    <tr>\n",
       "      <th>125</th>\n",
       "      <td># vim: ft=python fileencoding=utf-8 sts=4 sw=4...</td>\n",
       "      <td>py</td>\n",
       "      <td>safe</td>\n",
       "    </tr>\n",
       "    <tr>\n",
       "      <th>130</th>\n",
       "      <td># Copyright 2020 The TensorFlow Authors. All R...</td>\n",
       "      <td>py</td>\n",
       "      <td>safe</td>\n",
       "    </tr>\n",
       "  </tbody>\n",
       "</table>\n",
       "</div>"
      ],
      "text/plain": [
       "                                                  code language      safety\n",
       "2    #!/usr/bin/env python\\n\\nfrom __future__ impor...       py        safe\n",
       "52   # This file is dual licensed under the terms o...       py  vulnerable\n",
       "85   # Copyright (c) 2010-2012 OpenStack, LLC.\\n\\n#...       py  vulnerable\n",
       "125  # vim: ft=python fileencoding=utf-8 sts=4 sw=4...       py        safe\n",
       "130  # Copyright 2020 The TensorFlow Authors. All R...       py        safe"
      ]
     },
     "execution_count": 8,
     "metadata": {},
     "output_type": "execute_result"
    }
   ],
   "source": [
    "df.head()"
   ]
  },
  {
   "cell_type": "code",
   "execution_count": 19,
   "id": "9f64436c",
   "metadata": {},
   "outputs": [
    {
     "data": {
      "text/plain": [
       "782"
      ]
     },
     "execution_count": 19,
     "metadata": {},
     "output_type": "execute_result"
    }
   ],
   "source": [
    "sum(df['safety'] == 'safe')"
   ]
  },
  {
   "cell_type": "markdown",
   "id": "f132ab5a",
   "metadata": {},
   "source": [
    "50:50 split between codes classified 'safe' and 'vulnerable'."
   ]
  },
  {
   "cell_type": "code",
   "execution_count": 26,
   "id": "a80999c4",
   "metadata": {},
   "outputs": [],
   "source": [
    "df.to_csv('CVEFixes_py.csv')"
   ]
  }
 ],
 "metadata": {
  "kernelspec": {
   "display_name": "Python 3 (ipykernel)",
   "language": "python",
   "name": "python3"
  },
  "language_info": {
   "codemirror_mode": {
    "name": "ipython",
    "version": 3
   },
   "file_extension": ".py",
   "mimetype": "text/x-python",
   "name": "python",
   "nbconvert_exporter": "python",
   "pygments_lexer": "ipython3",
   "version": "3.9.7"
  }
 },
 "nbformat": 4,
 "nbformat_minor": 5
}
