{
 "cells": [
  {
   "cell_type": "markdown",
   "id": "a5f835bb",
   "metadata": {},
   "source": [
    "# Data Import"
   ]
  },
  {
   "cell_type": "code",
   "execution_count": 172,
   "id": "8f1d9535",
   "metadata": {},
   "outputs": [],
   "source": [
    "import pandas as pd\n",
    "import numpy as np"
   ]
  },
  {
   "cell_type": "code",
   "execution_count": 173,
   "id": "2fa4dcf0",
   "metadata": {},
   "outputs": [],
   "source": [
    "df = pd.read_csv('CVEFixes_py.csv')"
   ]
  },
  {
   "cell_type": "code",
   "execution_count": 174,
   "id": "f32bdc40",
   "metadata": {},
   "outputs": [
    {
     "data": {
      "text/html": [
       "<div>\n",
       "<style scoped>\n",
       "    .dataframe tbody tr th:only-of-type {\n",
       "        vertical-align: middle;\n",
       "    }\n",
       "\n",
       "    .dataframe tbody tr th {\n",
       "        vertical-align: top;\n",
       "    }\n",
       "\n",
       "    .dataframe thead th {\n",
       "        text-align: right;\n",
       "    }\n",
       "</style>\n",
       "<table border=\"1\" class=\"dataframe\">\n",
       "  <thead>\n",
       "    <tr style=\"text-align: right;\">\n",
       "      <th></th>\n",
       "      <th>Unnamed: 0</th>\n",
       "      <th>code</th>\n",
       "      <th>language</th>\n",
       "      <th>safety</th>\n",
       "    </tr>\n",
       "  </thead>\n",
       "  <tbody>\n",
       "    <tr>\n",
       "      <th>0</th>\n",
       "      <td>2</td>\n",
       "      <td>#!/usr/bin/env python\\n\\nfrom __future__ impor...</td>\n",
       "      <td>py</td>\n",
       "      <td>safe</td>\n",
       "    </tr>\n",
       "    <tr>\n",
       "      <th>1</th>\n",
       "      <td>52</td>\n",
       "      <td># This file is dual licensed under the terms o...</td>\n",
       "      <td>py</td>\n",
       "      <td>vulnerable</td>\n",
       "    </tr>\n",
       "    <tr>\n",
       "      <th>2</th>\n",
       "      <td>85</td>\n",
       "      <td># Copyright (c) 2010-2012 OpenStack, LLC.\\n\\n#...</td>\n",
       "      <td>py</td>\n",
       "      <td>vulnerable</td>\n",
       "    </tr>\n",
       "    <tr>\n",
       "      <th>3</th>\n",
       "      <td>125</td>\n",
       "      <td># vim: ft=python fileencoding=utf-8 sts=4 sw=4...</td>\n",
       "      <td>py</td>\n",
       "      <td>safe</td>\n",
       "    </tr>\n",
       "    <tr>\n",
       "      <th>4</th>\n",
       "      <td>130</td>\n",
       "      <td># Copyright 2020 The TensorFlow Authors. All R...</td>\n",
       "      <td>py</td>\n",
       "      <td>safe</td>\n",
       "    </tr>\n",
       "  </tbody>\n",
       "</table>\n",
       "</div>"
      ],
      "text/plain": [
       "   Unnamed: 0                                               code language  \\\n",
       "0           2  #!/usr/bin/env python\\n\\nfrom __future__ impor...       py   \n",
       "1          52  # This file is dual licensed under the terms o...       py   \n",
       "2          85  # Copyright (c) 2010-2012 OpenStack, LLC.\\n\\n#...       py   \n",
       "3         125  # vim: ft=python fileencoding=utf-8 sts=4 sw=4...       py   \n",
       "4         130  # Copyright 2020 The TensorFlow Authors. All R...       py   \n",
       "\n",
       "       safety  \n",
       "0        safe  \n",
       "1  vulnerable  \n",
       "2  vulnerable  \n",
       "3        safe  \n",
       "4        safe  "
      ]
     },
     "execution_count": 174,
     "metadata": {},
     "output_type": "execute_result"
    }
   ],
   "source": [
    "df.head()"
   ]
  },
  {
   "cell_type": "markdown",
   "id": "29556eed",
   "metadata": {},
   "source": [
    "# Data Cleaning"
   ]
  },
  {
   "cell_type": "markdown",
   "id": "53b36402",
   "metadata": {},
   "source": [
    "## Helper Functions"
   ]
  },
  {
   "cell_type": "code",
   "execution_count": 175,
   "id": "4c40222c",
   "metadata": {},
   "outputs": [],
   "source": [
    "import re"
   ]
  },
  {
   "cell_type": "code",
   "execution_count": 178,
   "id": "896e309b",
   "metadata": {},
   "outputs": [],
   "source": [
    "# remove comments beginning with # or within ''' '''\n",
    "def remove_comments(code):\n",
    "    return re.sub(r'#.*|\\'\\'\\'[^\\'\\']*\\'\\'\\'', '', code)\n",
    "\n",
    "# check if there are multiple '\\n' and combine them into one '\\n'\n",
    "def combine_newlines(code):\n",
    "    return re.sub(r'\\n+', '\\n', code)"
   ]
  },
  {
   "cell_type": "code",
   "execution_count": 179,
   "id": "56e9e2f9",
   "metadata": {},
   "outputs": [
    {
     "data": {
      "text/html": [
       "<div>\n",
       "<style scoped>\n",
       "    .dataframe tbody tr th:only-of-type {\n",
       "        vertical-align: middle;\n",
       "    }\n",
       "\n",
       "    .dataframe tbody tr th {\n",
       "        vertical-align: top;\n",
       "    }\n",
       "\n",
       "    .dataframe thead th {\n",
       "        text-align: right;\n",
       "    }\n",
       "</style>\n",
       "<table border=\"1\" class=\"dataframe\">\n",
       "  <thead>\n",
       "    <tr style=\"text-align: right;\">\n",
       "      <th></th>\n",
       "      <th>Unnamed: 0</th>\n",
       "      <th>code</th>\n",
       "      <th>language</th>\n",
       "      <th>safety</th>\n",
       "    </tr>\n",
       "  </thead>\n",
       "  <tbody>\n",
       "    <tr>\n",
       "      <th>0</th>\n",
       "      <td>2</td>\n",
       "      <td>#!/usr/bin/env python\\n\\nfrom __future__ impor...</td>\n",
       "      <td>py</td>\n",
       "      <td>safe</td>\n",
       "    </tr>\n",
       "    <tr>\n",
       "      <th>1</th>\n",
       "      <td>52</td>\n",
       "      <td># This file is dual licensed under the terms o...</td>\n",
       "      <td>py</td>\n",
       "      <td>vulnerable</td>\n",
       "    </tr>\n",
       "    <tr>\n",
       "      <th>2</th>\n",
       "      <td>85</td>\n",
       "      <td># Copyright (c) 2010-2012 OpenStack, LLC.\\n\\n#...</td>\n",
       "      <td>py</td>\n",
       "      <td>vulnerable</td>\n",
       "    </tr>\n",
       "    <tr>\n",
       "      <th>3</th>\n",
       "      <td>125</td>\n",
       "      <td># vim: ft=python fileencoding=utf-8 sts=4 sw=4...</td>\n",
       "      <td>py</td>\n",
       "      <td>safe</td>\n",
       "    </tr>\n",
       "    <tr>\n",
       "      <th>4</th>\n",
       "      <td>130</td>\n",
       "      <td># Copyright 2020 The TensorFlow Authors. All R...</td>\n",
       "      <td>py</td>\n",
       "      <td>safe</td>\n",
       "    </tr>\n",
       "  </tbody>\n",
       "</table>\n",
       "</div>"
      ],
      "text/plain": [
       "   Unnamed: 0                                               code language  \\\n",
       "0           2  #!/usr/bin/env python\\n\\nfrom __future__ impor...       py   \n",
       "1          52  # This file is dual licensed under the terms o...       py   \n",
       "2          85  # Copyright (c) 2010-2012 OpenStack, LLC.\\n\\n#...       py   \n",
       "3         125  # vim: ft=python fileencoding=utf-8 sts=4 sw=4...       py   \n",
       "4         130  # Copyright 2020 The TensorFlow Authors. All R...       py   \n",
       "\n",
       "       safety  \n",
       "0        safe  \n",
       "1  vulnerable  \n",
       "2  vulnerable  \n",
       "3        safe  \n",
       "4        safe  "
      ]
     },
     "execution_count": 179,
     "metadata": {},
     "output_type": "execute_result"
    }
   ],
   "source": [
    "df.head()"
   ]
  },
  {
   "cell_type": "code",
   "execution_count": 180,
   "id": "fb835d75",
   "metadata": {},
   "outputs": [],
   "source": [
    "# replace safe, vulnerable with 1,0\n",
    "df['safety'].replace({'safe':1, 'vulnerable':0}, inplace=True)"
   ]
  },
  {
   "cell_type": "code",
   "execution_count": 181,
   "id": "6539131c",
   "metadata": {},
   "outputs": [
    {
     "data": {
      "text/plain": [
       "array([1, 0], dtype=int64)"
      ]
     },
     "execution_count": 181,
     "metadata": {},
     "output_type": "execute_result"
    }
   ],
   "source": [
    "# checking that all values under 'safety' are 1,0\n",
    "df['safety'].unique()"
   ]
  },
  {
   "cell_type": "code",
   "execution_count": 182,
   "id": "34e1597b",
   "metadata": {},
   "outputs": [],
   "source": [
    "# drop original index\n",
    "# drop language column since only python language is being studied\n",
    "df.drop(columns=[df.columns[0], 'language'], axis=1 , inplace=True)"
   ]
  },
  {
   "cell_type": "code",
   "execution_count": 183,
   "id": "856dd183",
   "metadata": {},
   "outputs": [
    {
     "data": {
      "text/html": [
       "<div>\n",
       "<style scoped>\n",
       "    .dataframe tbody tr th:only-of-type {\n",
       "        vertical-align: middle;\n",
       "    }\n",
       "\n",
       "    .dataframe tbody tr th {\n",
       "        vertical-align: top;\n",
       "    }\n",
       "\n",
       "    .dataframe thead th {\n",
       "        text-align: right;\n",
       "    }\n",
       "</style>\n",
       "<table border=\"1\" class=\"dataframe\">\n",
       "  <thead>\n",
       "    <tr style=\"text-align: right;\">\n",
       "      <th></th>\n",
       "      <th>code</th>\n",
       "      <th>safety</th>\n",
       "    </tr>\n",
       "  </thead>\n",
       "  <tbody>\n",
       "    <tr>\n",
       "      <th>0</th>\n",
       "      <td>#!/usr/bin/env python\\n\\nfrom __future__ impor...</td>\n",
       "      <td>1</td>\n",
       "    </tr>\n",
       "    <tr>\n",
       "      <th>1</th>\n",
       "      <td># This file is dual licensed under the terms o...</td>\n",
       "      <td>0</td>\n",
       "    </tr>\n",
       "    <tr>\n",
       "      <th>2</th>\n",
       "      <td># Copyright (c) 2010-2012 OpenStack, LLC.\\n\\n#...</td>\n",
       "      <td>0</td>\n",
       "    </tr>\n",
       "    <tr>\n",
       "      <th>3</th>\n",
       "      <td># vim: ft=python fileencoding=utf-8 sts=4 sw=4...</td>\n",
       "      <td>1</td>\n",
       "    </tr>\n",
       "    <tr>\n",
       "      <th>4</th>\n",
       "      <td># Copyright 2020 The TensorFlow Authors. All R...</td>\n",
       "      <td>1</td>\n",
       "    </tr>\n",
       "  </tbody>\n",
       "</table>\n",
       "</div>"
      ],
      "text/plain": [
       "                                                code  safety\n",
       "0  #!/usr/bin/env python\\n\\nfrom __future__ impor...       1\n",
       "1  # This file is dual licensed under the terms o...       0\n",
       "2  # Copyright (c) 2010-2012 OpenStack, LLC.\\n\\n#...       0\n",
       "3  # vim: ft=python fileencoding=utf-8 sts=4 sw=4...       1\n",
       "4  # Copyright 2020 The TensorFlow Authors. All R...       1"
      ]
     },
     "execution_count": 183,
     "metadata": {},
     "output_type": "execute_result"
    }
   ],
   "source": [
    "df.head()"
   ]
  },
  {
   "cell_type": "code",
   "execution_count": 184,
   "id": "9198a9cb",
   "metadata": {},
   "outputs": [],
   "source": [
    "df['code_cleaned'] = df['code'].apply(lambda x: combine_newlines(remove_comments(x)))"
   ]
  },
  {
   "cell_type": "code",
   "execution_count": 185,
   "id": "5e2b9dd3",
   "metadata": {},
   "outputs": [
    {
     "data": {
      "text/html": [
       "<div>\n",
       "<style scoped>\n",
       "    .dataframe tbody tr th:only-of-type {\n",
       "        vertical-align: middle;\n",
       "    }\n",
       "\n",
       "    .dataframe tbody tr th {\n",
       "        vertical-align: top;\n",
       "    }\n",
       "\n",
       "    .dataframe thead th {\n",
       "        text-align: right;\n",
       "    }\n",
       "</style>\n",
       "<table border=\"1\" class=\"dataframe\">\n",
       "  <thead>\n",
       "    <tr style=\"text-align: right;\">\n",
       "      <th></th>\n",
       "      <th>code</th>\n",
       "      <th>safety</th>\n",
       "      <th>code_cleaned</th>\n",
       "    </tr>\n",
       "  </thead>\n",
       "  <tbody>\n",
       "    <tr>\n",
       "      <th>0</th>\n",
       "      <td>#!/usr/bin/env python\\n\\nfrom __future__ impor...</td>\n",
       "      <td>1</td>\n",
       "      <td>\\nfrom __future__ import division, absolute_im...</td>\n",
       "    </tr>\n",
       "    <tr>\n",
       "      <th>1</th>\n",
       "      <td># This file is dual licensed under the terms o...</td>\n",
       "      <td>0</td>\n",
       "      <td>\\nfrom __future__ import absolute_import, divi...</td>\n",
       "    </tr>\n",
       "    <tr>\n",
       "      <th>2</th>\n",
       "      <td># Copyright (c) 2010-2012 OpenStack, LLC.\\n\\n#...</td>\n",
       "      <td>0</td>\n",
       "      <td>\\n\"\"\" Tests for swift.common.utils \"\"\"\\nfrom _...</td>\n",
       "    </tr>\n",
       "    <tr>\n",
       "      <th>3</th>\n",
       "      <td># vim: ft=python fileencoding=utf-8 sts=4 sw=4...</td>\n",
       "      <td>1</td>\n",
       "      <td>\\nimport os\\nimport attr\\nimport pytest\\nimpor...</td>\n",
       "    </tr>\n",
       "    <tr>\n",
       "      <th>4</th>\n",
       "      <td># Copyright 2020 The TensorFlow Authors. All R...</td>\n",
       "      <td>1</td>\n",
       "      <td>\\n\"\"\"Tests for tensorflow.python.framework.con...</td>\n",
       "    </tr>\n",
       "  </tbody>\n",
       "</table>\n",
       "</div>"
      ],
      "text/plain": [
       "                                                code  safety  \\\n",
       "0  #!/usr/bin/env python\\n\\nfrom __future__ impor...       1   \n",
       "1  # This file is dual licensed under the terms o...       0   \n",
       "2  # Copyright (c) 2010-2012 OpenStack, LLC.\\n\\n#...       0   \n",
       "3  # vim: ft=python fileencoding=utf-8 sts=4 sw=4...       1   \n",
       "4  # Copyright 2020 The TensorFlow Authors. All R...       1   \n",
       "\n",
       "                                        code_cleaned  \n",
       "0  \\nfrom __future__ import division, absolute_im...  \n",
       "1  \\nfrom __future__ import absolute_import, divi...  \n",
       "2  \\n\"\"\" Tests for swift.common.utils \"\"\"\\nfrom _...  \n",
       "3  \\nimport os\\nimport attr\\nimport pytest\\nimpor...  \n",
       "4  \\n\"\"\"Tests for tensorflow.python.framework.con...  "
      ]
     },
     "execution_count": 185,
     "metadata": {},
     "output_type": "execute_result"
    }
   ],
   "source": [
    "df.head()"
   ]
  }
 ],
 "metadata": {
  "kernelspec": {
   "display_name": "Python 3 (ipykernel)",
   "language": "python",
   "name": "python3"
  },
  "language_info": {
   "codemirror_mode": {
    "name": "ipython",
    "version": 3
   },
   "file_extension": ".py",
   "mimetype": "text/x-python",
   "name": "python",
   "nbconvert_exporter": "python",
   "pygments_lexer": "ipython3",
   "version": "3.9.7"
  }
 },
 "nbformat": 4,
 "nbformat_minor": 5
}
